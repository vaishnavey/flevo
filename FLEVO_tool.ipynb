{
  "nbformat": 4,
  "nbformat_minor": 0,
  "metadata": {
    "colab": {
      "provenance": []
    },
    "kernelspec": {
      "name": "python3",
      "display_name": "Python 3"
    },
    "language_info": {
      "name": "python"
    },
    "widgets": {
      "application/vnd.jupyter.widget-state+json": {
        "801e1008664d41d4a84214eabba20781": {
          "model_module": "@jupyter-widgets/controls",
          "model_name": "TextareaModel",
          "model_module_version": "1.5.0",
          "state": {
            "_dom_classes": [],
            "_model_module": "@jupyter-widgets/controls",
            "_model_module_version": "1.5.0",
            "_model_name": "TextareaModel",
            "_view_count": null,
            "_view_module": "@jupyter-widgets/controls",
            "_view_module_version": "1.5.0",
            "_view_name": "TextareaView",
            "continuous_update": true,
            "description": "Query Seq:",
            "description_tooltip": null,
            "disabled": false,
            "layout": "IPY_MODEL_41bd40521a2e4cfcb0859135a9b87b9a",
            "placeholder": "Paste your ORF5 GP5 amino acid sequence (200 aa)",
            "rows": null,
            "style": "IPY_MODEL_8fa2611361bc42f4934ac7818af84aa1",
            "value": "MLGKCLTAGCCSQLPFLWCIVPFCFVALVNASNNSSSHLQLIYNLTICELNGTDWLNKSFDWAVETFVIFPVLTHIVSYGALTTSHFLDTVGLITVSAAGYYHGRYVLSSIYAVCALAALTCFVIRLTKNCMSWRYSCTRYTNFLQDTKGKLYRWRSPVIIEKGGKIEVEGHLIDLKRVVLDGSAATPVTKVSAEQWGRP"
          }
        },
        "41bd40521a2e4cfcb0859135a9b87b9a": {
          "model_module": "@jupyter-widgets/base",
          "model_name": "LayoutModel",
          "model_module_version": "1.2.0",
          "state": {
            "_model_module": "@jupyter-widgets/base",
            "_model_module_version": "1.2.0",
            "_model_name": "LayoutModel",
            "_view_count": null,
            "_view_module": "@jupyter-widgets/base",
            "_view_module_version": "1.2.0",
            "_view_name": "LayoutView",
            "align_content": null,
            "align_items": null,
            "align_self": null,
            "border": null,
            "bottom": null,
            "display": null,
            "flex": null,
            "flex_flow": null,
            "grid_area": null,
            "grid_auto_columns": null,
            "grid_auto_flow": null,
            "grid_auto_rows": null,
            "grid_column": null,
            "grid_gap": null,
            "grid_row": null,
            "grid_template_areas": null,
            "grid_template_columns": null,
            "grid_template_rows": null,
            "height": "100px",
            "justify_content": null,
            "justify_items": null,
            "left": null,
            "margin": null,
            "max_height": null,
            "max_width": null,
            "min_height": null,
            "min_width": null,
            "object_fit": null,
            "object_position": null,
            "order": null,
            "overflow": null,
            "overflow_x": null,
            "overflow_y": null,
            "padding": null,
            "right": null,
            "top": null,
            "visibility": null,
            "width": "100%"
          }
        },
        "8fa2611361bc42f4934ac7818af84aa1": {
          "model_module": "@jupyter-widgets/controls",
          "model_name": "DescriptionStyleModel",
          "model_module_version": "1.5.0",
          "state": {
            "_model_module": "@jupyter-widgets/controls",
            "_model_module_version": "1.5.0",
            "_model_name": "DescriptionStyleModel",
            "_view_count": null,
            "_view_module": "@jupyter-widgets/base",
            "_view_module_version": "1.2.0",
            "_view_name": "StyleView",
            "description_width": ""
          }
        },
        "3a605f5aab264db08b21f97ed5c48ba1": {
          "model_module": "@jupyter-widgets/controls",
          "model_name": "ButtonModel",
          "model_module_version": "1.5.0",
          "state": {
            "_dom_classes": [],
            "_model_module": "@jupyter-widgets/controls",
            "_model_module_version": "1.5.0",
            "_model_name": "ButtonModel",
            "_view_count": null,
            "_view_module": "@jupyter-widgets/controls",
            "_view_module_version": "1.5.0",
            "_view_name": "ButtonView",
            "button_style": "success",
            "description": "Enter",
            "disabled": false,
            "icon": "",
            "layout": "IPY_MODEL_d1518c9a4f514efc989917a21b1ca96a",
            "style": "IPY_MODEL_a6f96ee7fc164737a045b67a4ee6967d",
            "tooltip": ""
          }
        },
        "d1518c9a4f514efc989917a21b1ca96a": {
          "model_module": "@jupyter-widgets/base",
          "model_name": "LayoutModel",
          "model_module_version": "1.2.0",
          "state": {
            "_model_module": "@jupyter-widgets/base",
            "_model_module_version": "1.2.0",
            "_model_name": "LayoutModel",
            "_view_count": null,
            "_view_module": "@jupyter-widgets/base",
            "_view_module_version": "1.2.0",
            "_view_name": "LayoutView",
            "align_content": null,
            "align_items": null,
            "align_self": null,
            "border": null,
            "bottom": null,
            "display": null,
            "flex": null,
            "flex_flow": null,
            "grid_area": null,
            "grid_auto_columns": null,
            "grid_auto_flow": null,
            "grid_auto_rows": null,
            "grid_column": null,
            "grid_gap": null,
            "grid_row": null,
            "grid_template_areas": null,
            "grid_template_columns": null,
            "grid_template_rows": null,
            "height": null,
            "justify_content": null,
            "justify_items": null,
            "left": null,
            "margin": null,
            "max_height": null,
            "max_width": null,
            "min_height": null,
            "min_width": null,
            "object_fit": null,
            "object_position": null,
            "order": null,
            "overflow": null,
            "overflow_x": null,
            "overflow_y": null,
            "padding": null,
            "right": null,
            "top": null,
            "visibility": null,
            "width": null
          }
        },
        "a6f96ee7fc164737a045b67a4ee6967d": {
          "model_module": "@jupyter-widgets/controls",
          "model_name": "ButtonStyleModel",
          "model_module_version": "1.5.0",
          "state": {
            "_model_module": "@jupyter-widgets/controls",
            "_model_module_version": "1.5.0",
            "_model_name": "ButtonStyleModel",
            "_view_count": null,
            "_view_module": "@jupyter-widgets/base",
            "_view_module_version": "1.2.0",
            "_view_name": "StyleView",
            "button_color": null,
            "font_weight": ""
          }
        },
        "63c0aac07a53485895c57bc8c80e7df1": {
          "model_module": "@jupyter-widgets/controls",
          "model_name": "ButtonModel",
          "model_module_version": "1.5.0",
          "state": {
            "_dom_classes": [],
            "_model_module": "@jupyter-widgets/controls",
            "_model_module_version": "1.5.0",
            "_model_name": "ButtonModel",
            "_view_count": null,
            "_view_module": "@jupyter-widgets/controls",
            "_view_module_version": "1.5.0",
            "_view_name": "ButtonView",
            "button_style": "info",
            "description": "Run Example Input",
            "disabled": false,
            "icon": "",
            "layout": "IPY_MODEL_d1ad12987f4a4c72b550715f77909189",
            "style": "IPY_MODEL_3176f8f66c124061853b900be2edfaa0",
            "tooltip": ""
          }
        },
        "d1ad12987f4a4c72b550715f77909189": {
          "model_module": "@jupyter-widgets/base",
          "model_name": "LayoutModel",
          "model_module_version": "1.2.0",
          "state": {
            "_model_module": "@jupyter-widgets/base",
            "_model_module_version": "1.2.0",
            "_model_name": "LayoutModel",
            "_view_count": null,
            "_view_module": "@jupyter-widgets/base",
            "_view_module_version": "1.2.0",
            "_view_name": "LayoutView",
            "align_content": null,
            "align_items": null,
            "align_self": null,
            "border": null,
            "bottom": null,
            "display": null,
            "flex": null,
            "flex_flow": null,
            "grid_area": null,
            "grid_auto_columns": null,
            "grid_auto_flow": null,
            "grid_auto_rows": null,
            "grid_column": null,
            "grid_gap": null,
            "grid_row": null,
            "grid_template_areas": null,
            "grid_template_columns": null,
            "grid_template_rows": null,
            "height": null,
            "justify_content": null,
            "justify_items": null,
            "left": null,
            "margin": null,
            "max_height": null,
            "max_width": null,
            "min_height": null,
            "min_width": null,
            "object_fit": null,
            "object_position": null,
            "order": null,
            "overflow": null,
            "overflow_x": null,
            "overflow_y": null,
            "padding": null,
            "right": null,
            "top": null,
            "visibility": null,
            "width": null
          }
        },
        "3176f8f66c124061853b900be2edfaa0": {
          "model_module": "@jupyter-widgets/controls",
          "model_name": "ButtonStyleModel",
          "model_module_version": "1.5.0",
          "state": {
            "_model_module": "@jupyter-widgets/controls",
            "_model_module_version": "1.5.0",
            "_model_name": "ButtonStyleModel",
            "_view_count": null,
            "_view_module": "@jupyter-widgets/base",
            "_view_module_version": "1.2.0",
            "_view_name": "StyleView",
            "button_color": null,
            "font_weight": ""
          }
        },
        "875a7c64b87644d58b6d70de9397d9cb": {
          "model_module": "@jupyter-widgets/output",
          "model_name": "OutputModel",
          "model_module_version": "1.0.0",
          "state": {
            "_dom_classes": [],
            "_model_module": "@jupyter-widgets/output",
            "_model_module_version": "1.0.0",
            "_model_name": "OutputModel",
            "_view_count": null,
            "_view_module": "@jupyter-widgets/output",
            "_view_module_version": "1.0.0",
            "_view_name": "OutputView",
            "layout": "IPY_MODEL_e6ebeabfeb0b4a88af185a1183802ab3",
            "msg_id": "",
            "outputs": [
              {
                "output_type": "stream",
                "name": "stdout",
                "text": [
                  "Hamming distance from WT: 23\n",
                  "FLEVO escape score: 84.705\n",
                  "Uncertainty: 11.500%\n",
                  "- Relative score from minimum escape mutant: 83.547\n",
                  "- Relative score from median escape mutant: 8.112 (below median)\n",
                  "- Relative score from maximum escape mutant: 119.588\n"
                ]
              },
              {
                "output_type": "stream",
                "name": "stdout",
                "text": [
                  "Closest match ID: seq8854\n",
                  "Date: 2017-01-12\n",
                  "Similarity: 99.500%\n"
                ]
              }
            ]
          }
        },
        "e6ebeabfeb0b4a88af185a1183802ab3": {
          "model_module": "@jupyter-widgets/base",
          "model_name": "LayoutModel",
          "model_module_version": "1.2.0",
          "state": {
            "_model_module": "@jupyter-widgets/base",
            "_model_module_version": "1.2.0",
            "_model_name": "LayoutModel",
            "_view_count": null,
            "_view_module": "@jupyter-widgets/base",
            "_view_module_version": "1.2.0",
            "_view_name": "LayoutView",
            "align_content": null,
            "align_items": null,
            "align_self": null,
            "border": null,
            "bottom": null,
            "display": null,
            "flex": null,
            "flex_flow": null,
            "grid_area": null,
            "grid_auto_columns": null,
            "grid_auto_flow": null,
            "grid_auto_rows": null,
            "grid_column": null,
            "grid_gap": null,
            "grid_row": null,
            "grid_template_areas": null,
            "grid_template_columns": null,
            "grid_template_rows": null,
            "height": null,
            "justify_content": null,
            "justify_items": null,
            "left": null,
            "margin": null,
            "max_height": null,
            "max_width": null,
            "min_height": null,
            "min_width": null,
            "object_fit": null,
            "object_position": null,
            "order": null,
            "overflow": null,
            "overflow_x": null,
            "overflow_y": null,
            "padding": null,
            "right": null,
            "top": null,
            "visibility": null,
            "width": null
          }
        }
      }
    }
  },
  "cells": [
    {
      "cell_type": "code",
      "execution_count": 23,
      "metadata": {
        "colab": {
          "base_uri": "https://localhost:8080/"
        },
        "id": "8_uiX47WTOqG",
        "outputId": "8ec12a49-2717-42cb-a64a-f3ca219a1ba2"
      },
      "outputs": [
        {
          "output_type": "stream",
          "name": "stdout",
          "text": [
            "Mounted at /content/drive\n"
          ]
        }
      ],
      "source": [
        "from google.colab import drive\n",
        "drive.mount('/content/drive')"
      ]
    },
    {
      "cell_type": "code",
      "source": [
        "folder_path ='/content/drive/MyDrive/https://drive.google.com/drive/folders/1_OtZ3VPV8S5H9Pe179o7MyQBF3_W68AI?usp=drive_link'"
      ],
      "metadata": {
        "id": "R5UQg7TPTYS9"
      },
      "execution_count": 24,
      "outputs": []
    },
    {
      "cell_type": "code",
      "source": [
        "#dependencies\n",
        "!pip install biopython"
      ],
      "metadata": {
        "colab": {
          "base_uri": "https://localhost:8080/"
        },
        "id": "xkyg5A8-TpO0",
        "outputId": "0ebe5eb6-faee-42da-f807-7146b4bc94a8"
      },
      "execution_count": 25,
      "outputs": [
        {
          "output_type": "stream",
          "name": "stdout",
          "text": [
            "Requirement already satisfied: biopython in /usr/local/lib/python3.12/dist-packages (1.85)\n",
            "Requirement already satisfied: numpy in /usr/local/lib/python3.12/dist-packages (from biopython) (2.0.2)\n"
          ]
        }
      ]
    },
    {
      "cell_type": "code",
      "source": [
        "import ipywidgets as widgets\n",
        "from IPython.display import display, clear_output\n",
        "from Bio.Seq import Seq\n",
        "from Bio import SeqIO\n",
        "import pandas as pd\n",
        "import math\n",
        "import matplotlib.pyplot as plt\n",
        "import matplotlib as mpl\n",
        "\n",
        "# Load FLEVO escape scores\n",
        "evescape_df = pd.read_csv(\"prrsv_scaled_flevo_scores.csv\")\n",
        "evescape_df[\"mutations\"] = evescape_df[\"wt\"] + evescape_df[\"i\"].astype(str) + evescape_df[\"mut\"]\n",
        "evescape_dict_pos = dict(zip(evescape_df[\"mutations\"], evescape_df[\"evescape\"] - evescape_df[\"evescape\"].min()))\n",
        "evescape_dict_sigmoid = dict(zip(evescape_df[\"mutations\"], evescape_df[\"evescape\"].apply(lambda x: 1 / (1 + math.exp(-x)))))\n",
        "\n",
        "# Reference sequence\n",
        "ref_aa_seq = \"MLEKCLTAGYCSQLLFFWCIVPFCFAALVNAASNSSSHLQLIYNLTICELNGTDWLNQKFDWAVETFVIFPVLTHIVSYGALTTSHFLDTAGLITVSTAGYYHGRYVLSSIYAVFALAALICFVIRLTKNCMSWRYSCTRYTNFLLDTKGNLYRWRSPVVIERRGKVEVGDHLIDLKRVVLDGSAATPITKISAEQWGRP\"\n",
        "\n",
        "# Widgets\n",
        "query_input = widgets.Textarea(\n",
        "    value='',\n",
        "    placeholder='Paste your ORF5 GP5 amino acid sequence (200 aa)',\n",
        "    description='Query Seq:',\n",
        "    layout=widgets.Layout(width='100%', height='100px')\n",
        ")\n",
        "\n",
        "enter_button = widgets.Button(description=\"Enter\", button_style='success')\n",
        "example_button = widgets.Button(description=\"Run Example Input\", button_style='info')\n",
        "output_area = widgets.Output()\n",
        "\n",
        "# Example sequence (must be 200 aa)\n",
        "example_sequence = \"MLGKCLTAGCCSQLPFLWCIVPFCFVALVNASNNSSSHLQLIYNLTICELNGTDWLNKSFDWAVETFVIFPVLTHIVSYGALTTSHFLDTVGLITVSAAGYYHGRYVLSSIYAVCALAALTCFVIRLTKNCMSWRYSCTRYTNFLQDTKGKLYRWRSPVIIEKGGKIEVEGHLIDLKRVVLDGSAATPVTKVSAEQWGRP\"\n",
        "def on_enter_clicked(b):\n",
        "    output_area.clear_output(wait=True)\n",
        "    with output_area:\n",
        "        query_seq_input = query_input.value.strip().upper()\n",
        "        if len(query_seq_input) != 200:\n",
        "            print(\"❌ Please enter a 200-length amino acid sequence.\")\n",
        "            return\n",
        "\n",
        "        def hamming_distance(seq1, seq2):\n",
        "            if len(seq1) != len(seq2):\n",
        "                return None\n",
        "            return sum(a != b for a, b in zip(seq1, seq2))\n",
        "\n",
        "        query_seq = Seq(query_seq_input)\n",
        "        hdist = hamming_distance(ref_aa_seq, query_seq)\n",
        "        print(f\"Hamming distance from WT: {hdist}\")\n",
        "\n",
        "        mutations = []\n",
        "        for i in range(len(ref_aa_seq)):\n",
        "            ref_aa = ref_aa_seq[i]\n",
        "            query_aa = query_seq[i]\n",
        "            if ref_aa in [\"*\", \"X\"] or query_aa in [\"*\", \"X\", \"-\"]:\n",
        "                continue\n",
        "            if ref_aa != query_aa:\n",
        "                mut_string = f\"{ref_aa}{i+1}{query_aa}\"\n",
        "                if mut_string in evescape_dict_pos:\n",
        "                    mutations.append(mut_string)\n",
        "\n",
        "        score_pos = sum(evescape_dict_pos.get(m, 0) for m in mutations)\n",
        "        score_sigmoid = sum(evescape_dict_sigmoid.get(m, 0) for m in mutations)\n",
        "        print(f\"FLEVO escape score: {score_pos:.3f}\")\n",
        "\n",
        "        if hdist > 100:\n",
        "            print(\"This sequence is likely not that of PRRSV GP5\")\n",
        "            uncertainty = 100\n",
        "        else:\n",
        "            uncertainty = (hdist / 200) * 100\n",
        "        print(f\"Uncertainty: {uncertainty:.3f}%\")\n",
        "\n",
        "        minimum = 1.1572728000000003\n",
        "        maximum = 204.29259040000005\n",
        "        mean = 92.8164662\n",
        "        diff_sig_min = abs(score_pos - minimum)\n",
        "        diff_sig_mean = abs(score_pos - mean)\n",
        "        diff_sig_max = abs(maximum - score_pos)\n",
        "\n",
        "        position_mean = (\n",
        "            \"above median\" if score_pos > mean else\n",
        "            \"equal to median\" if score_pos == mean else\n",
        "            \"below median\"\n",
        "        )\n",
        "        print(f\"- Relative score from minimum escape mutant: {diff_sig_min:.3f}\")\n",
        "        print(f\"- Relative score from median escape mutant: {diff_sig_mean:.3f} ({position_mean})\")\n",
        "        print(f\"- Relative score from maximum escape mutant: {diff_sig_max:.3f}\")\n",
        "\n",
        "        critical_points = [204.29, 92.816, 3.253]\n",
        "        critical_labels = ['Max \\n204.29', 'Median\\n92.816', 'Min\\n1.153']\n",
        "\n",
        "        def plot_colorbar_with_point_and_uncertainty(min_val, max_val, point_val, mean_val,\n",
        "                                                     label=\"FLEVO Escape Score\", whisker_scale=1, uncertainty=0.5):\n",
        "            whisker_length = uncertainty / 100\n",
        "            fig, ax = plt.subplots(figsize=(6, 1.5))\n",
        "            fig.subplots_adjust(bottom=0.5)\n",
        "\n",
        "            colors = [(1, 1, 1), (0, 0, 1), (1, 0, 0)]\n",
        "            cmap = mpl.colors.LinearSegmentedColormap.from_list('custom_cmap', colors, N=256)\n",
        "            norm = mpl.colors.Normalize(vmin=0, vmax=230)\n",
        "\n",
        "            cb = mpl.colorbar.ColorbarBase(ax, cmap=cmap, norm=norm, orientation='horizontal')\n",
        "            cb.set_label(label)\n",
        "\n",
        "            point_position = (point_val - 0) / (max_val - 0)\n",
        "\n",
        "            ax.plot(point_position, 2.5, marker='o', markersize=10,\n",
        "                    markerfacecolor='black', markeredgecolor='black', transform=ax.transAxes, clip_on=False)\n",
        "            ax.text(point_position, 2.0, f\"{point_val:.2f}\", color='black', ha='center', va='bottom', transform=ax.transAxes)\n",
        "\n",
        "            ax.hlines(y=2.5,\n",
        "                      xmin=point_position - whisker_length / 2,\n",
        "                      xmax=point_position + whisker_length / 2,\n",
        "                      color='black', linewidth=3,\n",
        "                      transform=ax.transAxes, clip_on=False)\n",
        "\n",
        "            ax.vlines(x=[point_position - whisker_length / 2, point_position + whisker_length / 2],\n",
        "                      ymin=2.45, ymax=2.55,\n",
        "                      color='black', linewidth=3,\n",
        "                      transform=ax.transAxes, clip_on=False)\n",
        "\n",
        "            for rp, rl in zip(critical_points, critical_labels):\n",
        "                xpos = rp / 210\n",
        "                y_random = 0.5\n",
        "                ax.plot(xpos, y_random, marker='o', markersize=10,\n",
        "                        markerfacecolor='white', markeredgecolor='black', linewidth=1.5, transform=ax.transAxes)\n",
        "                ax.text(xpos, y_random + 1.5, rl, ha='center', va='top', fontsize=11, color='navy', transform=ax.transAxes)\n",
        "\n",
        "        # Find closest match in database\n",
        "        min_distance = None\n",
        "        closest_match_id = None\n",
        "        for record in SeqIO.parse(\"database.fasta\", \"fasta\"):\n",
        "            seq = str(record.seq)\n",
        "            distance = hamming_distance(seq, query_seq)\n",
        "            if distance is not None and (min_distance is None or distance < min_distance):\n",
        "                min_distance = distance\n",
        "                closest_match_id = record.id\n",
        "\n",
        "        if closest_match_id:\n",
        "            parts = closest_match_id.split('|')\n",
        "            seq_id = parts[0]\n",
        "            date = parts[1] if len(parts) > 1 else \"Unknown\"\n",
        "            similarity = (1 - min_distance / 200) * 100\n",
        "            print(f\"Closest match ID: {seq_id}\")\n",
        "            print(f\"Date: {date}\")\n",
        "            print(f\"Similarity: {similarity:.3f}%\")\n",
        "\n",
        "        plot_colorbar_with_point_and_uncertainty(minimum, maximum, score_pos, mean, uncertainty=uncertainty)\n",
        "\n",
        "# Example button logic\n",
        "def on_example_clicked(b):\n",
        "    query_input.value = example_sequence\n",
        "    on_enter_clicked(b)\n",
        "\n",
        "# Link buttons to functions\n",
        "enter_button.on_click(on_enter_clicked)\n",
        "example_button.on_click(on_example_clicked)\n",
        "\n",
        "# Display interface\n",
        "display(query_input, enter_button, example_button, output_area)\n"
      ],
      "metadata": {
        "id": "LXFx9J0jnnen",
        "colab": {
          "base_uri": "https://localhost:8080/",
          "height": 578,
          "referenced_widgets": [
            "801e1008664d41d4a84214eabba20781",
            "41bd40521a2e4cfcb0859135a9b87b9a",
            "8fa2611361bc42f4934ac7818af84aa1",
            "3a605f5aab264db08b21f97ed5c48ba1",
            "d1518c9a4f514efc989917a21b1ca96a",
            "a6f96ee7fc164737a045b67a4ee6967d",
            "63c0aac07a53485895c57bc8c80e7df1",
            "d1ad12987f4a4c72b550715f77909189",
            "3176f8f66c124061853b900be2edfaa0",
            "875a7c64b87644d58b6d70de9397d9cb",
            "e6ebeabfeb0b4a88af185a1183802ab3"
          ]
        },
        "outputId": "d945346d-b0be-405a-9654-2ffd9bd06101"
      },
      "execution_count": 36,
      "outputs": [
        {
          "output_type": "display_data",
          "data": {
            "text/plain": [
              "Textarea(value='', description='Query Seq:', layout=Layout(height='100px', width='100%'), placeholder='Paste y…"
            ],
            "application/vnd.jupyter.widget-view+json": {
              "version_major": 2,
              "version_minor": 0,
              "model_id": "801e1008664d41d4a84214eabba20781"
            }
          },
          "metadata": {}
        },
        {
          "output_type": "display_data",
          "data": {
            "text/plain": [
              "Button(button_style='success', description='Enter', style=ButtonStyle())"
            ],
            "application/vnd.jupyter.widget-view+json": {
              "version_major": 2,
              "version_minor": 0,
              "model_id": "3a605f5aab264db08b21f97ed5c48ba1"
            }
          },
          "metadata": {}
        },
        {
          "output_type": "display_data",
          "data": {
            "text/plain": [
              "Button(button_style='info', description='Run Example Input', style=ButtonStyle())"
            ],
            "application/vnd.jupyter.widget-view+json": {
              "version_major": 2,
              "version_minor": 0,
              "model_id": "63c0aac07a53485895c57bc8c80e7df1"
            }
          },
          "metadata": {}
        },
        {
          "output_type": "display_data",
          "data": {
            "text/plain": [
              "Output()"
            ],
            "application/vnd.jupyter.widget-view+json": {
              "version_major": 2,
              "version_minor": 0,
              "model_id": "875a7c64b87644d58b6d70de9397d9cb"
            }
          },
          "metadata": {}
        },
        {
          "output_type": "display_data",
          "data": {
            "text/plain": [
              "<Figure size 600x150 with 1 Axes>"
            ],
            "image/png": "[encoded data removed]"
          },
          "metadata": {}
        }
      ]
    },
    {
      "cell_type": "code",
      "source": [
        "import pandas as pd\n",
        "import math\n",
        "from Bio.Seq import Seq\n",
        "from Bio import SeqIO\n",
        "\n",
        "# Load FLEVO escape scores\n",
        "evescape_df = pd.read_csv(\"prrsv_scaled_flevo_scores.csv\")\n",
        "evescape_df[\"mutations\"] = evescape_df[\"wt\"] + evescape_df[\"i\"].astype(str) + evescape_df[\"mut\"]\n",
        "evescape_dict_pos = dict(zip(evescape_df[\"mutations\"], evescape_df[\"evescape\"] - evescape_df[\"evescape\"].min()))\n",
        "evescape_dict_sigmoid = dict(zip(evescape_df[\"mutations\"], evescape_df[\"evescape\"].apply(lambda x: 1 / (1 + math.exp(-x)))))\n",
        "\n",
        "# Reference sequence\n",
        "ref_aa_seq = \"MLEKCLTAGYCSQLLFFWCIVPFCFAALVNAASNSSSHLQLIYNLTICELNGTDWLNQKFDWAVETFVIFPVLTHIVSYGALTTSHFLDTAGLITVSTAGYYHGRYVLSSIYAVFALAALICFVIRLTKNCMSWRYSCTRYTNFLLDTKGNLYRWRSPVVIERRGKVEVGDHLIDLKRVVLDGSAATPITKISAEQWGRP\"\n",
        "\n",
        "# Function to calculate Hamming distance\n",
        "def hamming_distance(seq1, seq2):\n",
        "    if len(seq1) != len(seq2):\n",
        "        return None\n",
        "    return sum(a != b for a, b in zip(seq1, seq2))\n",
        "\n",
        "# Load batch input CSV\n",
        "batch_df = pd.read_csv(\"test.csv\", header=None, names=[\"ID\", \"Sequence\"])\n",
        "\n",
        "# Prepare output list\n",
        "output_data = []\n",
        "\n",
        "# Process each sequence\n",
        "for index, row in batch_df.iterrows():\n",
        "    seq_id = row[\"ID\"]\n",
        "    query_seq_input = row[\"Sequence\"].strip().upper()\n",
        "\n",
        "    if len(query_seq_input) != 200:\n",
        "        output_data.append([seq_id, \"Invalid sequence length\", \"\", \"\", \"\", \"\", \"\", \"\", \"\", \"\"])\n",
        "        continue\n",
        "\n",
        "    query_seq = Seq(query_seq_input)\n",
        "    hdist = hamming_distance(ref_aa_seq, query_seq)\n",
        "\n",
        "    mutations = []\n",
        "    for i in range(len(ref_aa_seq)):\n",
        "        ref_aa = ref_aa_seq[i]\n",
        "        query_aa = query_seq[i]\n",
        "        if ref_aa in [\"*\", \"X\"] or query_aa in [\"*\", \"X\", \"-\"]:\n",
        "            continue\n",
        "        if ref_aa != query_aa:\n",
        "            mut_string = f\"{ref_aa}{i+1}{query_aa}\"\n",
        "            if mut_string in evescape_dict_pos:\n",
        "                mutations.append(mut_string)\n",
        "\n",
        "    score_pos = sum(evescape_dict_pos.get(m, 0) for m in mutations)\n",
        "    score_sigmoid = sum(evescape_dict_sigmoid.get(m, 0) for m in mutations)\n",
        "\n",
        "    uncertainty = 100 if hdist > 30 else (hdist / 200) * 100\n",
        "\n",
        "    minimum = 1.1572728000000003\n",
        "    maximum = 204.29259040000005\n",
        "    mean = 92.8164662\n",
        "    diff_sig_min = abs(score_pos - minimum)\n",
        "    diff_sig_mean = abs(score_pos - mean)\n",
        "    diff_sig_max = abs(maximum - score_pos)\n",
        "\n",
        "    position_mean = (\n",
        "        \"above median\" if score_pos > mean else\n",
        "        \"equal to median\" if score_pos == mean else\n",
        "        \"below median\"\n",
        "    )\n",
        "\n",
        "    # Find closest match in database\n",
        "    min_distance = None\n",
        "    closest_match_id = None\n",
        "    for record in SeqIO.parse(\"database.fasta\", \"fasta\"):\n",
        "        seq = str(record.seq)\n",
        "        distance = hamming_distance(seq, query_seq)\n",
        "        if distance is not None and (min_distance is None or distance < min_distance):\n",
        "            min_distance = distance\n",
        "            closest_match_id = record.id\n",
        "\n",
        "    if closest_match_id:\n",
        "        parts = closest_match_id.split('|')\n",
        "        match_id = parts[0]\n",
        "        match_date = parts[1] if len(parts) > 1 else \"Unknown\"\n",
        "        similarity = (1 - min_distance / 200) * 100\n",
        "    else:\n",
        "        match_id = \"None\"\n",
        "        match_date = \"None\"\n",
        "        similarity = \"None\"\n",
        "\n",
        "    output_data.append([\n",
        "        seq_id, hdist, score_pos, uncertainty,\n",
        "        diff_sig_min, diff_sig_mean, position_mean, diff_sig_max,\n",
        "        match_id, match_date, similarity\n",
        "    ])\n",
        "\n",
        "# Save results to CSV\n",
        "output_df = pd.DataFrame(output_data, columns=[\n",
        "    \"ID\", \"Hamming Distance\", \"FLEVO Escape Score\", \"Uncertainty (%)\",\n",
        "    \"Distance from Min\", \"Distance from Median\", \"Position vs Median\",\n",
        "    \"Distance from Max\", \"Closest Match ID\", \"Date\", \"Similarity (%)\"\n",
        "])\n",
        "output_df.to_csv(\"flevo_output.csv\", index=False)\n",
        "print(\"Batch processing complete. Results saved to flevo_output.csv.\")\n"
      ],
      "metadata": {
        "colab": {
          "base_uri": "https://localhost:8080/"
        },
        "id": "b6oreKFd1OR7",
        "outputId": "8592eeb0-5571-479d-f3b9-7b51aaffecf8"
      },
      "execution_count": 32,
      "outputs": [
        {
          "output_type": "stream",
          "name": "stdout",
          "text": [
            "Batch processing complete. Results saved to output.csv.\n"
          ]
        }
      ]
    },
    {
      "cell_type": "code",
      "source": [],
      "metadata": {
        "id": "dekwXKTg1fol"
      },
      "execution_count": null,
      "outputs": []
    }
  ]
}